{
 "cells": [
  {
   "cell_type": "code",
   "execution_count": 19,
   "metadata": {
    "scrolled": true
   },
   "outputs": [
    {
     "name": "stdout",
     "output_type": "stream",
     "text": [
      "There are 60 letters in the total days of the week!!!!!!!!!!!!!!!!!!!!!!!!\n"
     ]
    }
   ],
   "source": [
    "print ('There are 60 letters in the total days of the week!!!!!!!!!!!!!!!!!!!!!!!!' )"
   ]
  },
  {
   "cell_type": "code",
   "execution_count": 1,
   "metadata": {},
   "outputs": [
    {
     "name": "stdout",
     "output_type": "stream",
     "text": [
      "[January 4th 2018]\n",
      "\n",
      "MONDAY\n",
      "\n",
      "TUESDAY\n",
      "\n",
      "WEDNESDAY\n",
      "\n",
      "THURSDAY\n",
      "\n",
      "FRIDAY\n",
      "\n",
      "SATURDAY\n",
      "\n",
      "SUNDAY\n"
     ]
    }
   ],
   "source": [
    "file1 = open('days.txt', 'r')\n",
    "file2 = open('days_all.txt', 'a')\n",
    "for line in file1: \n",
    "    print (line)\n",
    "    file2.write(line)\n",
    "file2.close()\n",
    "file1.close()\n",
    "    "
   ]
  },
  {
   "cell_type": "code",
   "execution_count": null,
   "metadata": {
    "collapsed": true
   },
   "outputs": [],
   "source": []
  }
 ],
 "metadata": {
  "kernelspec": {
   "display_name": "Python 3",
   "language": "python",
   "name": "python3"
  },
  "language_info": {
   "codemirror_mode": {
    "name": "ipython",
    "version": 3
   },
   "file_extension": ".py",
   "mimetype": "text/x-python",
   "name": "python",
   "nbconvert_exporter": "python",
   "pygments_lexer": "ipython3",
   "version": "3.6.4"
  }
 },
 "nbformat": 4,
 "nbformat_minor": 2
}
