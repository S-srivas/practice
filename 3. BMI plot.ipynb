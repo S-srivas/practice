{
 "cells": [
  {
   "cell_type": "code",
   "execution_count": 8,
   "metadata": {},
   "outputs": [
    {
     "name": "stdout",
     "output_type": "stream",
     "text": [
      "['Saina', 'Pranjal', 'Vandana', 'Biplav', 'Daddu', 'Dadi']\n",
      "[20.504933999743688, 29.745808545159548, 31.577562387614577, 28.906249999999993, 28.763971071663377, 24.653031409788166]\n"
     ]
    },
    {
     "data": {
      "image/png": "[encoded data removed]",
      "text/plain": [
       "<matplotlib.figure.Figure at 0x1524c9055f8>"
      ]
     },
     "metadata": {},
     "output_type": "display_data"
    }
   ],
   "source": [
    "from pylab import plot, show, bar, scatter, annotate\n",
    "import matplotlib.pyplot as plt\n",
    "x = []\n",
    "y = []\n",
    "file1 = open('data.txt', 'r')\n",
    "for line in file1:\n",
    "    line = line.strip()\n",
    "    line = line.split(',')\n",
    "    a = float(line[1].strip())\n",
    "    b = float(line[2].strip())\n",
    "    bmi = (a)/(b*b)\n",
    "    name = line[0].strip()\n",
    "    x.append(name)\n",
    "    y.append(bmi)\n",
    "    plt.axhline(y=18.5, color='g', linestyle='-')\n",
    "    plt.axhline(y=25, color='y', linestyle='-')   \n",
    "    plt.axhline(y=30, color='r', linestyle='-')\n",
    "file1.close()\n",
    "print (x)\n",
    "print (y)\n",
    "scatter(x,y)\n",
    "show()\n",
    "file1.close()"
   ]
  },
  {
   "cell_type": "code",
   "execution_count": null,
   "metadata": {
    "collapsed": true
   },
   "outputs": [],
   "source": []
  }
 ],
 "metadata": {
  "kernelspec": {
   "display_name": "Python 3",
   "language": "python",
   "name": "python3"
  },
  "language_info": {
   "codemirror_mode": {
    "name": "ipython",
    "version": 3
   },
   "file_extension": ".py",
   "mimetype": "text/x-python",
   "name": "python",
   "nbconvert_exporter": "python",
   "pygments_lexer": "ipython3",
   "version": "3.8.3"
  }
 },
 "nbformat": 4,
 "nbformat_minor": 2
}
