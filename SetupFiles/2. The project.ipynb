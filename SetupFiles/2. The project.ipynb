{
 "cells": [
  {
   "cell_type": "code",
   "execution_count": 1,
   "metadata": {},
   "outputs": [
    {
     "name": "stdout",
     "output_type": "stream",
     "text": [
      "['Shirt 1', 'pink and sparkly', '0']\n",
      "['Shirt 1', 'pink and black', '0']\n",
      "['Shirt 3', 'blue with minions', '0']\n",
      "['Shirt 4', 'sea blue with tad back', '0']\n"
     ]
    }
   ],
   "source": [
    "# Functionality: open clothes file\n",
    "file1 = open('clothes - Sheet1.csv', 'r')\n",
    "for line in file1:\n",
    "    line = line.strip()\n",
    "    line = line.split(',')\n",
    "    #im = Image.open(line)\n",
    "    print(line)"
   ]
  },
  {
   "cell_type": "code",
   "execution_count": 12,
   "metadata": {},
   "outputs": [
    {
     "name": "stdout",
     "output_type": "stream",
     "text": [
      "Welcome!!!!!!!\n",
      "Image 1!\n",
      "Image 2!\n",
      "Image 3!\n",
      "Image 4!\n",
      "Thank you, and this story/program IS OVER!\n"
     ]
    }
   ],
   "source": [
    "# Main function\n",
    "from PIL import Image, ImageFilter\n",
    "print ('Welcome!!!!!!!')\n",
    "print ('Image 1!')\n",
    "im = Image.open( 'pink and black t-shirt(huge).jpg' )\n",
    "im.show()\n",
    "print ('Image 2!')\n",
    "im = Image.open( 'cat t-shirt(huge).jpg' )\n",
    "im.show()\n",
    "print ('Image 3!')\n",
    "im = Image.open( 'minions t-shirt(huge).jpg' )\n",
    "im.show()\n",
    "print ('Image 4!')\n",
    "im = Image.open( 'blue t-shirt(huge).jpg' )\n",
    "im.show()\n",
    "print ('Thank you, and this story/program IS OVER!')"
   ]
  },
  {
   "cell_type": "code",
   "execution_count": null,
   "metadata": {},
   "outputs": [],
   "source": []
  }
 ],
 "metadata": {
  "kernelspec": {
   "display_name": "Python 3",
   "language": "python",
   "name": "python3"
  },
  "language_info": {
   "codemirror_mode": {
    "name": "ipython",
    "version": 3
   },
   "file_extension": ".py",
   "mimetype": "text/x-python",
   "name": "python",
   "nbconvert_exporter": "python",
   "pygments_lexer": "ipython3",
   "version": "3.6.4"
  }
 },
 "nbformat": 4,
 "nbformat_minor": 2
}
