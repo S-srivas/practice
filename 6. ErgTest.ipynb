{
 "cells": [
  {
   "cell_type": "code",
   "execution_count": 7,
   "metadata": {},
   "outputs": [
    {
     "name": "stdout",
     "output_type": "stream",
     "text": [
      "['hi\\n', 'Hello']\n"
     ]
    }
   ],
   "source": [
    "file1 = open('erg.txt', 'r')\n",
    "content = []\n",
    "for line in file1:\n",
    "    content.append(line)\n",
    "file1.close()\n",
    "\n",
    "print (content)\n",
    "\n"
   ]
  },
  {
   "cell_type": "code",
   "execution_count": 12,
   "metadata": {},
   "outputs": [],
   "source": [
    "file2 = open('erg_out.txt', 'w')\n",
    "i = 0\n",
    "while i < len(content):\n",
    "    file2.write(content[i])\n",
    "    i = i + 1\n",
    "file2.close()"
   ]
  },
  {
   "cell_type": "code",
   "execution_count": 6,
   "metadata": {},
   "outputs": [
    {
     "name": "stdout",
     "output_type": "stream",
     "text": [
      "['anchovy', 'barracuda', 'cod', 'devil ray', 'eel', 'flounder']\n"
     ]
    }
   ],
   "source": [
    "fish = ['barracuda','cod','devil ray','eel']\n",
    "fish.append('flounder')\n",
    "#print(fish)\n",
    "fish.insert(0,'anchovy')\n",
    "print(fish)"
   ]
  },
  {
   "cell_type": "code",
   "execution_count": null,
   "metadata": {
    "collapsed": true
   },
   "outputs": [],
   "source": []
  }
 ],
 "metadata": {
  "kernelspec": {
   "display_name": "Python 3",
   "language": "python",
   "name": "python3"
  },
  "language_info": {
   "codemirror_mode": {
    "name": "ipython",
    "version": 3
   },
   "file_extension": ".py",
   "mimetype": "text/x-python",
   "name": "python",
   "nbconvert_exporter": "python",
   "pygments_lexer": "ipython3",
   "version": "3.6.4"
  }
 },
 "nbformat": 4,
 "nbformat_minor": 2
}
