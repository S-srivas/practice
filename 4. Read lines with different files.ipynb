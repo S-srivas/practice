{
 "cells": [
  {
   "cell_type": "code",
   "execution_count": 21,
   "metadata": {},
   "outputs": [],
   "source": [
    "# Step 1: Reading first file\n",
    "file1 = open('part1.txt', 'r')\n",
    "x = []\n",
    "for line in file1:\n",
    "    x.append(line.strip())\n",
    "file1.close()\n",
    "\n",
    "# Step 2: Reading second file\n",
    "file2 = open('part2.txt', 'r')\n",
    "y = []\n",
    "for line in file2:\n",
    "    y.append(line.strip())\n",
    "file2.close()\n",
    "\n",
    "# Step 3: Reading third file\n",
    "file3 = open('part3.txt', 'r')\n",
    "z = []\n",
    "for line in file3:\n",
    "    z.append(line.strip())\n",
    "file3.close()\n",
    "\n"
   ]
  },
  {
   "cell_type": "code",
   "execution_count": 23,
   "metadata": {},
   "outputs": [],
   "source": [
    "file4 = open('all_out.txt', 'w')\n",
    "i = 0\n",
    "while i < len(y):\n",
    "    file4.write(x[i] + y[i] + z[i] + '\\n')\n",
    "    i = i + 1\n",
    "file4.close()"
   ]
  },
  {
   "cell_type": "code",
   "execution_count": null,
   "metadata": {
    "collapsed": true
   },
   "outputs": [],
   "source": []
  }
 ],
 "metadata": {
  "kernelspec": {
   "display_name": "Python 3",
   "language": "python",
   "name": "python3"
  },
  "language_info": {
   "codemirror_mode": {
    "name": "ipython",
    "version": 3
   },
   "file_extension": ".py",
   "mimetype": "text/x-python",
   "name": "python",
   "nbconvert_exporter": "python",
   "pygments_lexer": "ipython3",
   "version": "3.6.4"
  }
 },
 "nbformat": 4,
 "nbformat_minor": 2
}
