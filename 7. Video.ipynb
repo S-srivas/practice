{
 "cells": [
  {
   "cell_type": "code",
   "execution_count": 7,
   "metadata": {},
   "outputs": [
    {
     "name": "stdout",
     "output_type": "stream",
     "text": [
      "Kat Hillard\n"
     ]
    }
   ],
   "source": [
    "myName = 'Katherine'\n",
    "firstName = 'Kat'\n",
    "secondName = 'Hillard'\n",
    "fullName = firstName + ' ' + secondName\n",
    "print (fullName)"
   ]
  },
  {
   "cell_type": "code",
   "execution_count": 14,
   "metadata": {},
   "outputs": [
    {
     "data": {
      "text/plain": [
       "'therine gibberishalkshfberhuvhrtvhfwhfefefj'"
      ]
     },
     "execution_count": 14,
     "metadata": {},
     "output_type": "execute_result"
    }
   ],
   "source": [
    "random = 'Katherine gibberishalkshfberhuvhrtvhfwhfefefj'\n",
    "random[2:]"
   ]
  },
  {
   "cell_type": "code",
   "execution_count": 21,
   "metadata": {},
   "outputs": [
    {
     "name": "stdout",
     "output_type": "stream",
     "text": [
      "['eggs', 'carrots', 'milk', 'cherries', 'apples']\n"
     ]
    },
    {
     "data": {
      "text/plain": [
       "'milk'"
      ]
     },
     "execution_count": 21,
     "metadata": {},
     "output_type": "execute_result"
    }
   ],
   "source": [
    "shoppingList = 'eggs, carrots, milk, cherries, apples'\n",
    "shoppingList2 = ['eggs', 'carrots', 'milk', 'cherries', 'apples']\n",
    "print (shoppingList2)\n",
    "shoppingList2[2]"
   ]
  },
  {
   "cell_type": "code",
   "execution_count": 22,
   "metadata": {},
   "outputs": [
    {
     "data": {
      "text/plain": [
       "'milk'"
      ]
     },
     "execution_count": 22,
     "metadata": {},
     "output_type": "execute_result"
    }
   ],
   "source": [
    "shoppingList2[2]"
   ]
  },
  {
   "cell_type": "code",
   "execution_count": 23,
   "metadata": {},
   "outputs": [
    {
     "data": {
      "text/plain": [
       "'carrots'"
      ]
     },
     "execution_count": 23,
     "metadata": {},
     "output_type": "execute_result"
    }
   ],
   "source": [
    "shoppingList2[1]"
   ]
  },
  {
   "cell_type": "code",
   "execution_count": 24,
   "metadata": {},
   "outputs": [
    {
     "data": {
      "text/plain": [
       "'cherries'"
      ]
     },
     "execution_count": 24,
     "metadata": {},
     "output_type": "execute_result"
    }
   ],
   "source": [
    "shoppingList2[3]"
   ]
  },
  {
   "cell_type": "code",
   "execution_count": 3,
   "metadata": {
    "scrolled": true
   },
   "outputs": [
    {
     "name": "stdout",
     "output_type": "stream",
     "text": [
      "['eggs', 'carrots', 'chocolate', 'cherries', 'apples']\n"
     ]
    }
   ],
   "source": [
    "shoppingList2 = ['eggs', 'carrots', 'milk', 'cherries', 'apples']\n",
    "shoppingList2[2] = 'chocolate'\n",
    "print (shoppingList2)"
   ]
  },
  {
   "cell_type": "code",
   "execution_count": 20,
   "metadata": {},
   "outputs": [
    {
     "name": "stdout",
     "output_type": "stream",
     "text": [
      "['carrots', 'milk', 'chocolate', 'cherries', 'apples']\n"
     ]
    }
   ],
   "source": [
    "shoppingList2 = ['eggs', 'carrots', 'milk', 'chocolate', 'cherries', 'apples']\n",
    "del shoppingList2[0]\n",
    "print (shoppingList2)"
   ]
  },
  {
   "cell_type": "code",
   "execution_count": 7,
   "metadata": {},
   "outputs": [
    {
     "name": "stdout",
     "output_type": "stream",
     "text": [
      "[23, 54, 64, 43, 23]\n"
     ]
    }
   ],
   "source": [
    "array1 =[23,54,64]\n",
    "array2 =[43,23]\n",
    "\n",
    "array3 = array1 + array2\n",
    "print (array3)"
   ]
  },
  {
   "cell_type": "code",
   "execution_count": 8,
   "metadata": {},
   "outputs": [
    {
     "data": {
      "text/plain": [
       "4"
      ]
     },
     "execution_count": 8,
     "metadata": {},
     "output_type": "execute_result"
    }
   ],
   "source": [
    "len(shoppingList2)"
   ]
  },
  {
   "cell_type": "code",
   "execution_count": 9,
   "metadata": {},
   "outputs": [
    {
     "name": "stdout",
     "output_type": "stream",
     "text": [
      "10004\n"
     ]
    }
   ],
   "source": [
    "numArray = [36,75,10004,1,-5]\n",
    "max(numArray)\n",
    "print (max(numArray))"
   ]
  },
  {
   "cell_type": "code",
   "execution_count": 10,
   "metadata": {},
   "outputs": [
    {
     "name": "stdout",
     "output_type": "stream",
     "text": [
      "-5\n"
     ]
    }
   ],
   "source": [
    "min(numArray)\n",
    "print (min(numArray))"
   ]
  },
  {
   "cell_type": "code",
   "execution_count": 22,
   "metadata": {},
   "outputs": [
    {
     "name": "stdout",
     "output_type": "stream",
     "text": [
      "['carrots', 'milk', 'chocolate', 'cherries', 'apples', 'brocolli']\n"
     ]
    }
   ],
   "source": [
    "shoppingList2.append('brocolli')\n",
    "print (shoppingList2)"
   ]
  },
  {
   "cell_type": "code",
   "execution_count": 21,
   "metadata": {},
   "outputs": [
    {
     "data": {
      "text/plain": [
       "1"
      ]
     },
     "execution_count": 21,
     "metadata": {},
     "output_type": "execute_result"
    }
   ],
   "source": [
    "shoppingList2.count('chocolate')"
   ]
  },
  {
   "cell_type": "code",
   "execution_count": 26,
   "metadata": {},
   "outputs": [
    {
     "data": {
      "text/plain": [
       "17"
      ]
     },
     "execution_count": 26,
     "metadata": {},
     "output_type": "execute_result"
    }
   ],
   "source": [
    "student = {'Mal':17,'Evie':17,'Mia':18,'Emma':16,'Kimberly':34,'Katherine':33,'Gia':16,'Emily':18,'Ben':17,'Doug':17,'Jayden':18,'Troy':16,'Tommy':34,'Jake':16,'Mike':18, 'Billy':45, 'Chad':17}\n",
    "student['Chad']"
   ]
  },
  {
   "cell_type": "code",
   "execution_count": 27,
   "metadata": {},
   "outputs": [
    {
     "data": {
      "text/plain": [
       "46"
      ]
     },
     "execution_count": 27,
     "metadata": {},
     "output_type": "execute_result"
    }
   ],
   "source": [
    "student['Billy']= 46\n",
    "student['Billy']"
   ]
  },
  {
   "cell_type": "code",
   "execution_count": 28,
   "metadata": {},
   "outputs": [
    {
     "name": "stdout",
     "output_type": "stream",
     "text": [
      "{'Mal': 17, 'Evie': 17, 'Mia': 18, 'Emma': 16, 'Kimberly': 34, 'Katherine': 33, 'Gia': 16, 'Emily': 18, 'Ben': 17, 'Doug': 17, 'Jayden': 18, 'Troy': 16, 'Tommy': 34, 'Jake': 16, 'Mike': 18, 'Chad': 17}\n"
     ]
    }
   ],
   "source": [
    "del student['Billy']\n",
    "print (student)"
   ]
  },
  {
   "cell_type": "code",
   "execution_count": 3,
   "metadata": {},
   "outputs": [
    {
     "name": "stdout",
     "output_type": "stream",
     "text": [
      "Hi!\n"
     ]
    }
   ],
   "source": [
    "print ('Hi!')"
   ]
  },
  {
   "cell_type": "code",
   "execution_count": 1,
   "metadata": {},
   "outputs": [
    {
     "data": {
      "text/plain": [
       "17"
      ]
     },
     "execution_count": 1,
     "metadata": {},
     "output_type": "execute_result"
    }
   ],
   "source": [
    "student = {'Mal':17,'Evie':17,'Lonnie':17,'Jane':17,'Mia':18,'Emma':16,'Kimberly':34,'Katherine':33,'Gia':16,'Emily':18,'Ben':17,'Doug':17,'Jay':17,'Carlos':17,'Jayden':18,'Troy':16,'Tommy':34,'Jake':16,'Mike':18, 'Billy':45, 'Chad':17}\n",
    "student['Chad']"
   ]
  },
  {
   "cell_type": "code",
   "execution_count": 4,
   "metadata": {},
   "outputs": [
    {
     "name": "stdout",
     "output_type": "stream",
     "text": [
      "{}\n"
     ]
    }
   ],
   "source": [
    "students ={'Jobs':15,'Marc':24,'Avi':14}\n",
    "students.clear()\n",
    "print (students)"
   ]
  },
  {
   "cell_type": "code",
   "execution_count": 6,
   "metadata": {},
   "outputs": [
    {
     "data": {
      "text/plain": [
       "21"
      ]
     },
     "execution_count": 6,
     "metadata": {},
     "output_type": "execute_result"
    }
   ],
   "source": [
    "students = {'Mal':17,'Evie':17,'Lonnie':17,'Jane':17,'Mia':18,'Emma':16,'Kimberly':34,'Katherine':33,'Gia':16,'Emily':18,'Ben':17,'Doug':17,'Jay':17,'Carlos':17,'Jayden':18,'Troy':16,'Tommy':34,'Jake':16,'Mike':18, 'Billy':45, 'Chad':17}\n",
    "len(students)"
   ]
  },
  {
   "cell_type": "code",
   "execution_count": 7,
   "metadata": {},
   "outputs": [
    {
     "data": {
      "text/plain": [
       "dict_keys(['Mal', 'Evie', 'Lonnie', 'Jane', 'Mia', 'Emma', 'Kimberly', 'Katherine', 'Gia', 'Emily', 'Ben', 'Doug', 'Jay', 'Carlos', 'Jayden', 'Troy', 'Tommy', 'Jake', 'Mike', 'Billy', 'Chad'])"
      ]
     },
     "execution_count": 7,
     "metadata": {},
     "output_type": "execute_result"
    }
   ],
   "source": [
    "students.keys()"
   ]
  },
  {
   "cell_type": "code",
   "execution_count": 12,
   "metadata": {},
   "outputs": [
    {
     "data": {
      "text/plain": [
       "dict_values([17, 17, 17, 17, 18, 16, 34, 33, 16, 18, 17, 17, 17, 17, 18, 16, 34, 16, 18, 45, 17, 21, 21, 15, -861, 17, 71, 21, 21])"
      ]
     },
     "execution_count": 12,
     "metadata": {},
     "output_type": "execute_result"
    }
   ],
   "source": [
    "students.values()"
   ]
  },
  {
   "cell_type": "code",
   "execution_count": 13,
   "metadata": {},
   "outputs": [
    {
     "name": "stdout",
     "output_type": "stream",
     "text": [
      "{'Mal': 17, 'Evie': 17, 'Lonnie': 17, 'Jane': 17, 'Mia': 18, 'Emma': 16, 'Kimberly': 34, 'Katherine': 33, 'Gia': 16, 'Emily': 18, 'Ben': 17, 'Doug': 17, 'Jay': 17, 'Carlos': 17, 'Jayden': 18, 'Troy': 16, 'Tommy': 34, 'Jake': 16, 'Mike': 18, 'Billy': 45, 'Chad': 17, 'Hiccup': 21, 'Astrid': 21, 'Arestella': 15, 'Harry': 17, 'Uma': 17, 'Ursula': 71, 'Minden': 21, 'Snotlout': 21}\n"
     ]
    }
   ],
   "source": [
    "students2 = {'Hiccup':21,'Astrid':21,'Minden':21,'Snotlout':21,'Arestella':15,'Harry':17,'Uma':17, 'Ursula':71}\n",
    "students.update(students2)\n",
    "print (students)"
   ]
  },
  {
   "cell_type": "code",
   "execution_count": 14,
   "metadata": {},
   "outputs": [
    {
     "ename": "TypeError",
     "evalue": "'tuple' object does not support item deletion",
     "output_type": "error",
     "traceback": [
      "\u001b[1;31m---------------------------------------------------------------------------\u001b[0m",
      "\u001b[1;31mTypeError\u001b[0m                                 Traceback (most recent call last)",
      "\u001b[1;32m<ipython-input-14-2fbc41300efa>\u001b[0m in \u001b[0;36m<module>\u001b[1;34m()\u001b[0m\n\u001b[0;32m      1\u001b[0m \u001b[0mtup1\u001b[0m \u001b[1;33m=\u001b[0m \u001b[1;33m(\u001b[0m\u001b[1;34m'Maths'\u001b[0m\u001b[1;33m,\u001b[0m\u001b[1;36m23\u001b[0m\u001b[1;33m,\u001b[0m\u001b[1;34m'Dogs'\u001b[0m\u001b[1;33m)\u001b[0m\u001b[1;33m\u001b[0m\u001b[0m\n\u001b[1;32m----> 2\u001b[1;33m \u001b[1;32mdel\u001b[0m \u001b[0mtup1\u001b[0m\u001b[1;33m[\u001b[0m\u001b[1;34m'Maths'\u001b[0m\u001b[1;33m]\u001b[0m\u001b[1;33m\u001b[0m\u001b[0m\n\u001b[0m",
      "\u001b[1;31mTypeError\u001b[0m: 'tuple' object does not support item deletion"
     ]
    }
   ],
   "source": [
    "tup1 = ('Maths',23,'Dogs')\n",
    "del tup1['Maths']"
   ]
  },
  {
   "cell_type": "code",
   "execution_count": 16,
   "metadata": {},
   "outputs": [
    {
     "name": "stdout",
     "output_type": "stream",
     "text": [
      "Cheese\n"
     ]
    }
   ],
   "source": [
    "tup1 = ('Cheese')\n",
    "print (tup1)"
   ]
  },
  {
   "cell_type": "code",
   "execution_count": 19,
   "metadata": {},
   "outputs": [
    {
     "data": {
      "text/plain": [
       "'Maths'"
      ]
     },
     "execution_count": 19,
     "metadata": {},
     "output_type": "execute_result"
    }
   ],
   "source": [
    "tup1[0]"
   ]
  },
  {
   "cell_type": "code",
   "execution_count": 20,
   "metadata": {},
   "outputs": [
    {
     "data": {
      "text/plain": [
       "23"
      ]
     },
     "execution_count": 20,
     "metadata": {},
     "output_type": "execute_result"
    }
   ],
   "source": [
    "tup1[1]"
   ]
  },
  {
   "cell_type": "code",
   "execution_count": 21,
   "metadata": {},
   "outputs": [
    {
     "data": {
      "text/plain": [
       "('Maths', 23)"
      ]
     },
     "execution_count": 21,
     "metadata": {},
     "output_type": "execute_result"
    }
   ],
   "source": [
    "tup1[0:2]"
   ]
  },
  {
   "cell_type": "code",
   "execution_count": 23,
   "metadata": {},
   "outputs": [
    {
     "data": {
      "text/plain": [
       "('Maths', 23, 'Dogs')"
      ]
     },
     "execution_count": 23,
     "metadata": {},
     "output_type": "execute_result"
    }
   ],
   "source": [
    "tup1[0:3]"
   ]
  },
  {
   "cell_type": "code",
   "execution_count": 24,
   "metadata": {
    "collapsed": true
   },
   "outputs": [],
   "source": [
    "del tup1\n",
    "tup1 = ('Maths',23,'Dogs')"
   ]
  },
  {
   "cell_type": "code",
   "execution_count": null,
   "metadata": {
    "collapsed": true
   },
   "outputs": [],
   "source": []
  }
 ],
 "metadata": {
  "kernelspec": {
   "display_name": "Python 3",
   "language": "python",
   "name": "python3"
  },
  "language_info": {
   "codemirror_mode": {
    "name": "ipython",
    "version": 3
   },
   "file_extension": ".py",
   "mimetype": "text/x-python",
   "name": "python",
   "nbconvert_exporter": "python",
   "pygments_lexer": "ipython3",
   "version": "3.6.4"
  }
 },
 "nbformat": 4,
 "nbformat_minor": 2
}
